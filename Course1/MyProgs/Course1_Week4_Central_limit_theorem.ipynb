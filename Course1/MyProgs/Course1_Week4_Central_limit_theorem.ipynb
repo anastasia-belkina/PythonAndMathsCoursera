{
 "cells": [
  {
   "cell_type": "code",
   "execution_count": 10,
   "metadata": {},
   "outputs": [],
   "source": [
    "import pandas as pd\n",
    "import numpy as np\n",
    "import matplotlib.pyplot as plt\n",
    "import scipy.stats as sts\n",
    "%matplotlib inline"
   ]
  },
  {
   "cell_type": "markdown",
   "metadata": {},
   "source": [
    "## В качестве непрерывного распределения выбираем показательное (экспоненциальное) распределение"
   ]
  },
  {
   "cell_type": "markdown",
   "metadata": {},
   "source": [
    "Это распределение имеет один параметр Лямбда (L). Мат. ожидание = 1/L, Дисперсия = 1/L^2"
   ]
  },
  {
   "cell_type": "markdown",
   "metadata": {},
   "source": [
    "random.expovariate (lambd) — экспоненциальное распределение. Lambd должен быть отличным от нуля. Возвращаемые значения от 0 до плюс бесконечности, если lambd положительно, и от минус бесконечности до 0, если lambd отрицательный."
   ]
  },
  {
   "cell_type": "code",
   "execution_count": 11,
   "metadata": {},
   "outputs": [],
   "source": [
    "n = 1000\n",
    "L = 0.0125\n",
    "exp = sts.expon(scale = 1/L) # задаем распределение с параметром L\n",
    "#sample = exp.rvs(n) # генерируем выборку объемом n"
   ]
  },
  {
   "cell_type": "code",
   "execution_count": 12,
   "metadata": {},
   "outputs": [],
   "source": [
    "sample = exp.rvs(size=n)"
   ]
  },
  {
   "cell_type": "markdown",
   "metadata": {},
   "source": [
    "Строим гистограмму выборки и теоретическую плотность распределения на одном графике:"
   ]
  },
  {
   "cell_type": "code",
   "execution_count": 29,
   "metadata": {},
   "outputs": [
    {
     "data": {
      "text/plain": [
       "Text(0.5,0,'$x$')"
      ]
     },
     "execution_count": 29,
     "metadata": {},
     "output_type": "execute_result"
    },
    {
     "data": {
      "image/png": "[encoded data removed]",
      "text/plain": [
       "<Figure size 432x288 with 1 Axes>"
      ]
     },
     "metadata": {
      "needs_background": "light"
     },
     "output_type": "display_data"
    }
   ],
   "source": [
    "x = np.linspace(0, 10, 20)\n",
    "plt.hist(sample, density=True, bins = 20, histtype='bar', ec='black')\n",
    "plt.plot(x, exp.pdf(x))\n",
    "plt.xlabel('$x$')"
   ]
  },
  {
   "cell_type": "markdown",
   "metadata": {},
   "source": [
    "### Распределение выборочного среднего"
   ]
  },
  {
   "cell_type": "markdown",
   "metadata": {},
   "source": [
    "Фиксируем теперь значения объёма выборки n: (5, 10, 50)"
   ]
  },
  {
   "cell_type": "markdown",
   "metadata": {},
   "source": [
    "Объём выборки $n=5$:"
   ]
  },
  {
   "cell_type": "code",
   "execution_count": 16,
   "metadata": {},
   "outputs": [],
   "source": [
    "n = 5\n",
    "L = 2.0\n",
    "exp = sts.expon(scale = 1/L) # задаем распределение с параметром L\n",
    "sample = exp.rvs(size = n) # генерируем выборку объемом n"
   ]
  },
  {
   "cell_type": "code",
   "execution_count": 17,
   "metadata": {},
   "outputs": [
    {
     "data": {
      "text/plain": [
       "array([0.28500182, 0.08710552, 0.35557165, 2.55190034, 0.29585335])"
      ]
     },
     "execution_count": 17,
     "metadata": {},
     "output_type": "execute_result"
    }
   ],
   "source": [
    "sample"
   ]
  },
  {
   "cell_type": "markdown",
   "metadata": {},
   "source": [
    "Генерируем выборку выборочных средних:"
   ]
  },
  {
   "cell_type": "code",
   "execution_count": 18,
   "metadata": {},
   "outputs": [],
   "source": [
    "sample_mean_arr = [] # создаем список для хранения выборочных средних\n",
    "for i in range(1000): # цикл по выборкам\n",
    "    sample = exp.rvs(n) # генерируем выборку объема n\n",
    "    sample_mean = sum(sample) / n # вычисляем выборочное среднее как среднее арифметическое\n",
    "    sample_mean_arr.append(sample_mean) # добавляем полученное значение в список\n",
    "\n",
    "sample_mean_arr = np.array(sample_mean_arr) # переходим от списка к массиву numpy"
   ]
  },
  {
   "cell_type": "markdown",
   "metadata": {},
   "source": [
    "Строим гистограмму и плотность нормального распределения. Параметры нормального распределения: $\\mu = \\mathbf{E}X = {\\frac{1}{L}}, \\sigma = \\sqrt{\\dfrac{\\mathbf{D}X}{n}} = \\sqrt{\\frac{1}{(L^2)n}}$"
   ]
  },
  {
   "cell_type": "code",
   "execution_count": 19,
   "metadata": {},
   "outputs": [
    {
     "data": {
      "text/plain": [
       "Text(0.5,0,'x')"
      ]
     },
     "execution_count": 19,
     "metadata": {},
     "output_type": "execute_result"
    },
    {
     "data": {
      "image/png": "[encoded data removed]",
      "text/plain": [
       "<Figure size 432x288 with 1 Axes>"
      ]
     },
     "metadata": {
      "needs_background": "light"
     },
     "output_type": "display_data"
    }
   ],
   "source": [
    "plt.hist(sample_mean_arr, density=True, bins = 20, histtype='bar', ec='black') # строим гистограмму по выборке выборочных средних (по ЦПТ)')\n",
    "norm = sts.norm((1.0/L), np.sqrt((1.0 / (L**2.0)) / n)) # создаем случайную нормально распределенную величину\n",
    "x = np.linspace(0, 10, 200)\n",
    "plt.plot(x, norm.pdf(x))\n",
    "plt.xlabel('x')"
   ]
  },
  {
   "cell_type": "markdown",
   "metadata": {},
   "source": [
    "Объём выборки $n=10$:"
   ]
  },
  {
   "cell_type": "code",
   "execution_count": 20,
   "metadata": {},
   "outputs": [],
   "source": [
    "n = 10\n",
    "sample = exp.rvs(n) # генерируем выборку объемом n"
   ]
  },
  {
   "cell_type": "markdown",
   "metadata": {},
   "source": [
    "Генерируем выборку выборочных средних:"
   ]
  },
  {
   "cell_type": "code",
   "execution_count": 21,
   "metadata": {},
   "outputs": [],
   "source": [
    "sample_mean_arr = [] # создаем список для хранения выборочных средних\n",
    "for i in range(1000): # цикл по выборкам\n",
    "    sample = exp.rvs(n) # генерируем выборку объема n\n",
    "    sample_mean = sum(sample) / n # вычисляем выборочное среднее как среднее арифметическое\n",
    "    sample_mean_arr.append(sample_mean) # добавляем полученное значение в список\n",
    "\n",
    "sample_mean_arr = np.array(sample_mean_arr) # переходим от списка к массиву numpy"
   ]
  },
  {
   "cell_type": "markdown",
   "metadata": {},
   "source": [
    "Строим гистограмму и плотность нормального распределения. Параметры нормального распределения: $\\mu = \\mathbf{E}X = {\\frac{1}{L}}, \\sigma = \\sqrt{\\dfrac{\\mathbf{D}X}{n}} = \\sqrt{\\frac{1}{(L^2)n}}$"
   ]
  },
  {
   "cell_type": "code",
   "execution_count": 22,
   "metadata": {},
   "outputs": [
    {
     "data": {
      "text/plain": [
       "Text(0.5,0,'x')"
      ]
     },
     "execution_count": 22,
     "metadata": {},
     "output_type": "execute_result"
    },
    {
     "data": {
      "image/png": "[encoded data removed]",
      "text/plain": [
       "<Figure size 432x288 with 1 Axes>"
      ]
     },
     "metadata": {
      "needs_background": "light"
     },
     "output_type": "display_data"
    }
   ],
   "source": [
    "plt.hist(sample_mean_arr, density=True, bins = 20, histtype='bar', ec='black') # строим гистограмму по выборке выборочных средних (по ЦПТ)')\n",
    "norm = sts.norm((1.0/L), np.sqrt(1.0 / ((L**2.0) * n))) # создаем случайную нормально распределенную величину\n",
    "x = np.linspace(0, 10, 200)\n",
    "plt.plot(x, norm.pdf(x))\n",
    "plt.xlabel('x')"
   ]
  },
  {
   "cell_type": "markdown",
   "metadata": {},
   "source": [
    "Объём выборки $n=50$:"
   ]
  },
  {
   "cell_type": "code",
   "execution_count": 23,
   "metadata": {},
   "outputs": [],
   "source": [
    "n = 50\n",
    "sample = exp.rvs(n) # генерируем выборку объемом n"
   ]
  },
  {
   "cell_type": "markdown",
   "metadata": {},
   "source": [
    "Генерируем выборку выборочных средних:"
   ]
  },
  {
   "cell_type": "code",
   "execution_count": 24,
   "metadata": {},
   "outputs": [],
   "source": [
    "sample_mean_arr = [] # создаем список для хранения выборочных средних\n",
    "for i in range(1000): # цикл по выборкам\n",
    "    sample = exp.rvs(n) # генерируем выборку объема n\n",
    "    sample_mean = sum(sample) / n # вычисляем выборочное среднее как среднее арифметическое\n",
    "    sample_mean_arr.append(sample_mean) # добавляем полученное значение в список\n",
    "\n",
    "sample_mean_arr = np.array(sample_mean_arr) # переходим от списка к массиву numpy"
   ]
  },
  {
   "cell_type": "markdown",
   "metadata": {},
   "source": [
    "Строим гистограмму и плотность нормального распределения. Параметры нормального распределения: $\\mu = \\mathbf{E}X = {\\frac{1}{L}}, \\sigma = \\sqrt{\\dfrac{\\mathbf{D}X}{n}} = \\sqrt{\\frac{1}{(L^2)n}}$"
   ]
  },
  {
   "cell_type": "code",
   "execution_count": 25,
   "metadata": {},
   "outputs": [
    {
     "data": {
      "text/plain": [
       "Text(0.5,0,'x')"
      ]
     },
     "execution_count": 25,
     "metadata": {},
     "output_type": "execute_result"
    },
    {
     "data": {
      "image/png": "[encoded data removed]",
      "text/plain": [
       "<Figure size 432x288 with 1 Axes>"
      ]
     },
     "metadata": {
      "needs_background": "light"
     },
     "output_type": "display_data"
    }
   ],
   "source": [
    "plt.hist(sample_mean_arr, density=True, bins = 20, histtype='bar', ec='black') # строим гистограмму по выборке выборочных средних (по ЦПТ)')\n",
    "norm = sts.norm((1.0/L), np.sqrt(1.0 / ((L**2.0) * n))) # создаем случайную нормально распределенную величину\n",
    "x = np.linspace(0, 10, 200)\n",
    "plt.plot(x, norm.pdf(x))\n",
    "plt.xlabel('x')"
   ]
  },
  {
   "cell_type": "code",
   "execution_count": null,
   "metadata": {},
   "outputs": [],
   "source": []
  }
 ],
 "metadata": {
  "kernelspec": {
   "display_name": "Python 2",
   "language": "python",
   "name": "python2"
  },
  "language_info": {
   "codemirror_mode": {
    "name": "ipython",
    "version": 2
   },
   "file_extension": ".py",
   "mimetype": "text/x-python",
   "name": "python",
   "nbconvert_exporter": "python",
   "pygments_lexer": "ipython2",
   "version": "2.7.16"
  }
 },
 "nbformat": 4,
 "nbformat_minor": 2
}
